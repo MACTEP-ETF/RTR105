{
 "cells": [
  {
   "cell_type": "markdown",
   "metadata": {},
   "source": [
    "# 1. laboratorijas darba (Teilora rindas) astkaite"
   ]
  },
  {
   "cell_type": "markdown",
   "metadata": {},
   "source": [
    "Turpinājumā es aprakstīšu Teilora rindu būtību ..."
   ]
  },
  {
   "cell_type": "markdown",
   "metadata": {},
   "source": [
    "Teilora rinda matemātikā ir funkcijai, kam punktā **a** eksistē visu kārtu atvasinājumi, piekārtota rinda, kuras parciālsummas ir polinomi. Šo rindu 1715. gadā publicējis angļu matemātiķis Bruks Teilors (*Brook Taylor*)."
   ]
  },
  {
   "cell_type": "markdown",
   "metadata": {},
   "source": [
    "***************************************************************************************************\n",
    "**Laboratorijas darbs : Nr.1.**  \n",
    "Autors : Vladimirs Fedorovičs  \n",
    "Mērķis : Pārveidot *C valodas* programmu uz *Python 3*\n",
    "***************************************************************************************************"
   ]
  },
  {
   "cell_type": "markdown",
   "metadata": {},
   "source": [
    "## Kods"
   ]
  },
  {
   "cell_type": "code",
   "execution_count": 9,
   "metadata": {},
   "outputs": [
    {
     "name": "stdout",
     "output_type": "stream",
     "text": [
      "\n",
      "Sveicināti!\n",
      "\n",
      "Šī programma aprēķina funkcijas 'y=cos(x)*cos(x)' vērtību!\n",
      "Diemžēl, korekti skaitļi pēc Teilora rindas tikai pie 'x' intervālā [-17;17]\n",
      "\n",
      "\n",
      "Lūdzu, ievadiet 'x' vērtību intervālā [-17;17]: -15\n",
      "\n",
      "Aprēķins izmantojot funkciju:\n",
      "y=cos(-15.00)*cos(-15.00)=0.58\n",
      "\n",
      "\n",
      "Aprēķins pēc Teilora rindas:\n",
      "y=0.58\n",
      "\n",
      "\n",
      "25-tais Teilora rindas saskaitāmais: 1e+09\n",
      "\n",
      "\n",
      "75-tais Teilora rindas saskaitāmais: 3e-42\n",
      "\n",
      "\n",
      "Teilora rindas attēlošana funkcijai 'y=cos(x)*cos(x)' ASCII kodā:\n",
      "\n",
      "\n",
      "                   5  0  0\n",
      "\n",
      "  /|            ____________\n",
      "\n",
      " / |            \\          |\n",
      "\n",
      "/  |             \\                  k+1       2*k      2*k-1\n",
      "\n",
      "   |              \\             (-1)     *   x     *  2\n",
      "\n",
      "   |   ------     /          ---------------------------------\n",
      "\n",
      "   |             /                       ( 2 * k ) !\n",
      "\n",
      "   |            /\n",
      "\n",
      "   |           /___________|\n",
      "\n",
      "                   k = 1\n",
      "\n",
      "\n",
      "\n",
      "\n",
      "\n",
      "Rekurences attēlošana funkcijai 'y=cos(x)*cos(x)' ASCII kodā:\n",
      "\n",
      "\n",
      "           1\n",
      "\n",
      "       (-1)  * x * x * 4\n",
      "\n",
      "   --------------------------\n",
      "\n",
      "     (2 * k - 1) * (2 * k)\n",
      "\n",
      "\n",
      "\n",
      "\n"
     ]
    }
   ],
   "source": [
    "k = 1 # īpašo mainīgo definēšana\n",
    "\n",
    "print (\"\\nSveicināti!\\n\")\n",
    "print (\"Šī programma aprēķina funkcijas 'y=cos(x)*cos(x)' vērtību!\\nDiemžēl, korekti skaitļi pēc Teilora rindas tikai pie 'x' intervālā [-17;17]\\n\")\n",
    "x = float(input(\"\\nLūdzu, ievadiet 'x' vērtību intervālā [-17;17]: \"))\n",
    "a = (pow(-1,k+1)*pow(x,2*k)*pow(2,2*k-1))/(1.*1*2)\n",
    "S = a\n",
    "while k < 500:\n",
    "    k += 1\n",
    "    a = a * (((-1)*x*x*4)/((2*k-1)*(2*k)))\n",
    "    S = S + a\n",
    "    if k == 25:\n",
    "        b = a # saglabājam 25-to saskaitāmo\n",
    "    if k == 75:\n",
    "        z = a # saglabājam 75-to saskaitāmo\n",
    "        \n",
    "# attēlosim rezultātu\n",
    "from math import cos\n",
    "y = cos(x)*cos(x)\n",
    "print (\"\\nAprēķins izmantojot funkciju:\\ny=cos(%.2f)*cos(%.2f)=%.2f\\n\\n\"%(x,x,y)) # izvadam gala rezultātu uz ekrana\n",
    "print (\"Aprēķins pēc Teilora rindas:\\ny=%.2f\\n\\n\"%(1-S))\n",
    "print (\"25-tais Teilora rindas saskaitāmais: %.e\\n\\n\"%(b)) #izvadam konkrētu saskaitāmo uz ekrāna\n",
    "print (\"75-tais Teilora rindas saskaitāmais: %.e\\n\\n\"%(z)) #izvadam konkrētu saskaitāmo uz ekrāna\n",
    "\n",
    "print(\"Teilora rindas attēlošana funkcijai 'y=cos(x)*cos(x)' ASCII kodā:\\n\\n\");\n",
    "\n",
    "print(\"                   5  0  0\\n\");\n",
    "print(\"  /|            ____________\\n\");\n",
    "print(\" / |            \\\\          |\\n\");\n",
    "print(\"/  |             \\\\                  k+1       2*k      2*k-1\\n\");\n",
    "print(\"   |              \\\\             (-1)     *   x     *  2\\n\");\n",
    "print(\"   |   ------     /          ---------------------------------\\n\");\n",
    "print(\"   |             /                       ( 2 * k ) !\\n\");\n",
    "print(\"   |            /\\n\");\n",
    "print(\"   |           /___________|\\n\");\n",
    "print(\"                   k = 1\\n\");\n",
    "\n",
    "\n",
    "print(\"\\n\\n\\n\\nRekurences attēlošana funkcijai 'y=cos(x)*cos(x)' ASCII kodā:\\n\\n\");\n",
    "\n",
    "print(\"           1\\n\");\n",
    "print(\"       (-1)  * x * x * 4\\n\");\n",
    "print(\"   --------------------------\\n\");\n",
    "print(\"     (2 * k - 1) * (2 * k)\\n\\n\\n\\n\");"
   ]
  }
 ],
 "metadata": {
  "kernelspec": {
   "display_name": "Python 2",
   "language": "python",
   "name": "python2"
  },
  "language_info": {
   "codemirror_mode": {
    "name": "ipython",
    "version": 2
   },
   "file_extension": ".py",
   "mimetype": "text/x-python",
   "name": "python",
   "nbconvert_exporter": "python",
   "pygments_lexer": "ipython2",
   "version": "2.7.17"
  }
 },
 "nbformat": 4,
 "nbformat_minor": 2
}
