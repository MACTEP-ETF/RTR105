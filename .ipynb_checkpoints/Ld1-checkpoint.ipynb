{
 "cells": [
  {
   "cell_type": "markdown",
   "metadata": {},
   "source": [
    "# 1. laboratorijas darba (Teilora rindas) astkaite"
   ]
  },
  {
   "cell_type": "markdown",
   "metadata": {},
   "source": [
    "Turpinājumā es aprakstīšu Teilora rindu būtību ..."
   ]
  },
  {
   "cell_type": "markdown",
   "metadata": {},
   "source": [
    "Teilora rinda matemātikā ir funkcijai, kam punktā **a** eksistē visu kārtu atvasinājumi, piekārtota rinda, kuras parciālsummas ir polinomi. Šo rindu 1715. gadā publicējis angļu matemātiķis Bruks Teilors (*Brook Taylor*)."
   ]
  },
  {
   "cell_type": "markdown",
   "metadata": {},
   "source": [
    "***************************************************************************************************\n",
    "**Laboratorijas darbs : Nr.1.**  \n",
    "Autors : Vladimirs Fedorovičs  \n",
    "Mērķis : Pārveidot *C valodas* programmu uz *Python 3*\n",
    "***************************************************************************************************"
   ]
  },
  {
   "cell_type": "markdown",
   "metadata": {},
   "source": [
    "## Kods"
   ]
  },
  {
   "cell_type": "code",
   "execution_count": 24,
   "metadata": {},
   "outputs": [
    {
     "name": "stdout",
     "output_type": "stream",
     "text": [
      "\n",
      "Sveicināti!\n",
      "\n",
      "Šī programma aprēķina funkcijas 'y=cos(x)*cos(x)' vērtību!\n",
      "Diemžēl, korekti skaitļi pēc Teilora rindas tikai pie 'x' intervālā [-17;17]\n",
      "\n",
      "\n",
      "Lūdzu, ievadiet 'x' vērtību: 0.25\n",
      "\n",
      "Aprēķins izmantojot funkciju:\n",
      "y=cos(0.25)*cos(0.25)=0.94\n",
      "\n",
      "\n",
      "Aprēķins pēc Teilora rindas:\n",
      "y=0.94\n",
      "\n",
      "\n",
      "Priekšpēdējais Teilora rindas saskaitāmais: 0e+00\n",
      "\n",
      "\n",
      "Pēdējais Teilora rindas saskaitāmais: -0e+00\n",
      "\n",
      "\n"
     ]
    }
   ],
   "source": [
    "k = 1 # īpašo mainīgo definēšana\n",
    "\n",
    "print (\"\\nSveicināti!\\n\")\n",
    "print (\"Šī programma aprēķina funkcijas 'y=cos(x)*cos(x)' vērtību!\\nDiemžēl, korekti skaitļi pēc Teilora rindas tikai pie 'x' intervālā [-17;17]\\n\")\n",
    "x = float(input(\"\\nLūdzu, ievadiet 'x' vērtību: \"))\n",
    "a = (pow(-1,k+1)*pow(x,2*k)*pow(2,2*k-1))/(1.*1*2)\n",
    "S = a\n",
    "while k < 500:\n",
    "    k += 1\n",
    "    a = a * (((-1)*x*x*4)/((2*k-1)*(2*k)))\n",
    "    S = S + a\n",
    "    if k == 499:\n",
    "        b = a # saglabājam priekšpēdējo saskaitāmo\n",
    "        \n",
    "# attēlosim rezultātu\n",
    "from math import cos\n",
    "y = cos(x)*cos(x)\n",
    "print (\"\\nAprēķins izmantojot funkciju:\\ny=cos(%.2f)*cos(%.2f)=%.2f\\n\\n\"%(x,x,y)) # izvadam gala rezultātu uz ekrana\n",
    "print (\"Aprēķins pēc Teilora rindas:\\ny=%.2f\\n\\n\"%(1-S))\n",
    "print (\"Priekšpēdējais Teilora rindas saskaitāmais: %.e\\n\\n\"%(b)) #izvadam konkrētu saskaitāmo uz ekrāna\n",
    "print (\"Pēdējais Teilora rindas saskaitāmais: %.e\\n\\n\"%(a)) #izvadam konkrētu saskaitāmo uz ekrāna"
   ]
  },
  {
   "cell_type": "code",
   "execution_count": null,
   "metadata": {},
   "outputs": [],
   "source": []
  },
  {
   "cell_type": "markdown",
   "metadata": {},
   "source": [
    "#### C valodas koda ORIĢINĀLS seko zemāk!"
   ]
  },
  {
   "cell_type": "markdown",
   "metadata": {},
   "source": [
    "/***************************************************************************************************\n",
    "Laboratorijas darbs : Nr.1.\n",
    "Autors : Vladimirs Fedorovics\n",
    "Merkis : Uzrakstiit algoritmu, kurs apreekina funkcijas y=cos(x)*cos(x) veertiibu. Variants Nr12.\n",
    "***************************************************************************************************/\n",
    "\n",
    "#include<stdio.h>\n",
    "#include<math.h>\n",
    "\n",
    "void main()\n",
    "{\n",
    " long double x, y, a, S;\n",
    " long double b = 0; //priekspeedeejais saskaitaamais\n",
    " int k = 1;\n",
    "\n",
    "printf (\"\\nSveicinaati!\\n\");\n",
    " printf(\"Sii programma apreekina funkcijas 'y=cos(x)*cos(x)' veertiibu!\\nDiemzeel, korekti skaitljo peec Teilora rindas tikai pie 'x' intervaalaa [-22;22]\\n\");\n",
    " start:\n",
    " printf(\"\\nLuudzu ievadiet 'x' veertiibu: \");\n",
    " scanf(\"%Lf\",&x);\n",
    "\n",
    " if(x<-22 | x>22)\n",
    " {\n",
    "  printf(\"Luudzu ievadiet citu skaitli. Pieveersiet uzmaniibu 'x' veertiibas intervaalam!\\n\");\n",
    "  goto start;\n",
    " }\n",
    " else\n",
    " {\n",
    "  a = (pow(-1,k+1)*pow(x,2*k)*pow(2,2*k-1))/(1.*1*2);\n",
    "  S = a;\n",
    "\n",
    "  while(k<500)\n",
    "  {\n",
    "   k++;\n",
    "   a = a * (((-1)*x*x*4)/((2*k-1)*(2*k)));\n",
    "   S = S + a;\n",
    "\n",
    "   if (k == 499)\n",
    "   {\n",
    "    b = a;// saglabaajam priekspeedeejo saskaitaamo\n",
    "   }\n",
    "  }\n",
    "\n",
    "  // atteelosim rezultaatus\n",
    "  y = cos(x)*cos(x);\n",
    "  printf(\"\\nApreekins izmantojot funkciju:\\ny=cos(%.2Lf)*cos(%.2Lf)=%.2Lf\\n\\n\",x,x,y); //izvadam gala rezultatu uz ekrana\n",
    "  printf(\"Apreekins peec Teilora rindas:\\ny=%.2Lf\\n\\n\",1-S);\n",
    "  printf(\"Priekspeedeejais Teilora rindas saskaitaamais (ar 3000 ziimeem pec komata): %.3000Lf\\n\\n\",b); //izvadam konkretu saskaitamo uz ekrana\n",
    "  printf(\"Peedeejais Teilora rindas saskaitaamais (ar 3000 ziimeem pec komata): %.3000Lf\\n\\n\",a); //izvadam konkretu saskaitamo uz ekrana\n",
    " }\n",
    "\n",
    "\n",
    "printf(\"Teilora rindas atteelosana funkcijai 'y=cos(x)*cos(x)' ASCII kodaa:\\n\\n\");\n",
    "\n",
    "printf(\"                   5  0  0\\n\");\n",
    "printf(\"  /|            ____________\\n\");\n",
    "printf(\" / |            \\\\          |\\n\");\n",
    "printf(\"/  |             \\\\                  k+1       2*k      2*k-1\\n\");\n",
    "printf(\"   |              \\\\             (-1)     *   x     *  2\\n\");\n",
    "printf(\"   |   ------     /          ---------------------------------\\n\");\n",
    "printf(\"   |             /                       ( 2 * k ) !\\n\");\n",
    "printf(\"   |            /\\n\");\n",
    "printf(\"   |           /___________|\\n\");\n",
    "printf(\"                   k = 1\\n\");\n",
    "\n",
    "\n",
    "printf(\"\\n\\n\\n\\nRekurences atteelosana funkcijai 'y=cos(x)*cos(x)' ASCII kodaa:\\n\\n\");\n",
    "\n",
    "printf(\"           1\\n\");\n",
    "printf(\"       (-1)  * x * x * 4\\n\");\n",
    "printf(\"   --------------------------\\n\");\n",
    "printf(\"     (2 * k - 1) * (2 * k)\\n\\n\\n\\n\");\n",
    "\n",
    "}"
   ]
  },
  {
   "cell_type": "code",
   "execution_count": null,
   "metadata": {},
   "outputs": [],
   "source": []
  }
 ],
 "metadata": {
  "kernelspec": {
   "display_name": "Python 3",
   "language": "python",
   "name": "python3"
  },
  "language_info": {
   "codemirror_mode": {
    "name": "ipython",
    "version": 3
   },
   "file_extension": ".py",
   "mimetype": "text/x-python",
   "name": "python",
   "nbconvert_exporter": "python",
   "pygments_lexer": "ipython3",
   "version": "3.6.4"
  }
 },
 "nbformat": 4,
 "nbformat_minor": 2
}
